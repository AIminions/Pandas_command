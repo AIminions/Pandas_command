{
 "cells": [
  {
   "cell_type": "markdown",
   "metadata": {},
   "source": [
    "# zip() 함수와 for문"
   ]
  },
  {
   "cell_type": "code",
   "execution_count": null,
   "metadata": {},
   "outputs": [],
   "source": [
    "data = [[a, b ]] for a,b in zip(length, weight)] # 길이와 무게 데이터를 묶어서 data 리스트에 저장"
   ]
  },
  {
   "cell_type": "markdown",
   "metadata": {},
   "source": [
    "# 넘파이 배열"
   ]
  },
  {
   "cell_type": "code",
   "execution_count": null,
   "metadata": {},
   "outputs": [
    {
     "ename": "SyntaxError",
     "evalue": "invalid syntax (769056852.py, line 10)",
     "output_type": "error",
     "traceback": [
      "\u001b[1;36m  Cell \u001b[1;32mIn[1], line 10\u001b[1;36m\u001b[0m\n\u001b[1;33m    .reshape(-1, 1) # 1차원 배열을 2차원 배열로 변환\u001b[0m\n\u001b[1;37m    ^\u001b[0m\n\u001b[1;31mSyntaxError\u001b[0m\u001b[1;31m:\u001b[0m invalid syntax\n"
     ]
    }
   ],
   "source": [
    "import numpy as np\n",
    "import pandas as pd\n",
    "\n",
    "data = np.array(data) # data 리스트를 numpy 배열로 변환\n",
    "df.to_numpy() # 데이터프레임을 numpy 배열로 변환\n",
    "\n",
    "df = pd.DataFrame(data, columns=['length', 'weight']) # numpy 배열을 데이터프레임으로 변환\n",
    "df.to_csv('data.csv', index=False) # 데이터프레임을 csv 파일로 저장\n",
    "\n",
    ".reshape(-1, 1) # 1차원 배열을 2차원 배열로 변환\n",
    ".reshape(2, -1) # 1차원 배열을 2차원 배열로 변환    \n",
    "\n",
    ".arange(1, 10, 0.1) # 1부터 10까지 0.1 간격으로 배열 생성\n",
    ".linspace(1, 10, 100) # 1부터 10까지 100개의 구간으로 배열 생성\n",
    "\n",
    "np.clumns_stack(([1,2,3],[4,5,6])) # 두 배열을 열 방향으로 병합\n",
    "# ex) array([[1, 4],\n",
    "#            [2, 5],\n",
    "#            [3, 6]])\n",
    "np.row_stack(([1,2,3],[4,5,6])) # 두 배열을 행 방향으로 병합\n",
    "# ex) array([[1, 2, 3],\n",
    "#            [4, 5, 6]])\n",
    "\n",
    "np.random.rand(2, 3) # 2x3 크기의 난수 배열 생성\n",
    "np.random.randint(1, 100, 10) # 1부터 100까지 10개의 정수 난수 생성\n",
    "\n",
    "np.ones((2, 3)) # 2x3 크기의 1로 채워진 배열 생성\n",
    "np.zeros((2, 3)) # 2x3 크기의 0으로 채워진 배열 생성    \n",
    "\n",
    "np.concatenate(([[1,2,3], [4,5,6]]), axis=0) # 두 배열을 행 방향으로 연결\n",
    "# ex) array([[1, 2, 3],\n",
    "#            [4, 5, 6]])\n",
    "\n",
    "print(np.concatenate([[1, 2, 3], [4, 5, 6]])) # 두 배열을 열 방향으로 연결\n",
    "# ex) array([1, 2, 3, 4, 5, 6])\n"
   ]
  },
  {
   "cell_type": "markdown",
   "metadata": {},
   "source": [
    "# poly"
   ]
  },
  {
   "cell_type": "code",
   "execution_count": null,
   "metadata": {},
   "outputs": [],
   "source": []
  },
  {
   "cell_type": "markdown",
   "metadata": {},
   "source": [
    "# 스케일링"
   ]
  },
  {
   "cell_type": "code",
   "execution_count": null,
   "metadata": {},
   "outputs": [],
   "source": [
    "import sklearn.preprocessing as standardScaler\n",
    "\n",
    "scaler = StandardScaler() # StandardScaler 객체 생성\n",
    "scaler.fit(train) # 훈련 데이터에 대한 평균과 표준편차 계산 항상 훈련 데이터에 대해서만 fit 메서드를 호출\n",
    "train_scaled = scaler.fit_transform(train) # 훈련 데이터를 정규화 항상 훈련 데이터에 대해서만 fit_transform 메서드를 호출\n",
    "test_scaled = scaler.transform(test) # 테스트 데이터를 정규화 "
   ]
  },
  {
   "cell_type": "markdown",
   "metadata": {},
   "source": [
    "# 최근접 이웃 분류"
   ]
  },
  {
   "cell_type": "code",
   "execution_count": null,
   "metadata": {},
   "outputs": [],
   "source": [
    "from sklearn.neighbors import KNeighborsClassifier\n",
    "\n",
    "# K-최근접 이웃 모델을 생성\n",
    "# 그래프에 가장 가까운 이웃을 찾아서 분류하는 알고리즘\n",
    "\n",
    "\n",
    "\n",
    "kn = KNeighborsClassifier(n_neighbors=1) # 이웃의 개수를 1로 지정 ( 기본 5 )\n",
    "kn.n_neighbors = x # 이웃의 개수를 변경하고 싶을 때\n",
    "\n",
    "kn.fit(data, target) # 모델 훈련\n",
    "kn.predict([[20, 150]]) # 새로운 데이터에 대해 예측 항상 2차원 배열로 전달\n",
    "kn.score(data, target) # 모델의 정확도 계산 \n",
    "# 1.0 -> 100% 정확도\n",
    "# 정확도 = (정확히 예측한 개수) / (전체 데이터 개수)\n",
    "\n",
    "distance , indexes = kn.kneighbors([[x, y]]) # 가장 가까운 이웃까지의 거리와 인덱스를 반환"
   ]
  },
  {
   "cell_type": "markdown",
   "metadata": {},
   "source": [
    "# 최근접 이웃 회귀"
   ]
  },
  {
   "cell_type": "code",
   "execution_count": null,
   "metadata": {},
   "outputs": [],
   "source": [
    "from.sklearn.linear_model import LinearRegression\n",
    "from.sklearn.metrics import mean_squared_error , r2_score # 평균 제곱 오차와 R^2 점수를 계산\n",
    "from.sklearn.metrics import mean_absolute_error # 평균 절대 오차를 계산\n",
    "\n",
    "test_prediction = model.predict(test_input) # 테스트 데이터에 대한 예측\n",
    "\n",
    "mse = mean_squared_error(test_target, test_prediction) # 평균 제곱 오차 계산\n",
    "mae = mean_absolute_error(test_target, test_prediction) # 평균 절대 오차 계산\n",
    "r2 = r2_score(test_target, test_prediction) # R^2 점수 계산\n",
    "print(mse, mae, r2)\n",
    "\n",
    "R^2 = 1 - (오차 제곱의 합 / 편차 제곱의 합)\n",
    "# R^2 값이 1에 가까울수록 모델이 데이터를 잘 표현한다는 의미\n",
    "# R^2 값이 0에 가까울수록 모델이 데이터를 잘 표현하지 못한다는 의미\n",
    "# R^2 값이 음수가 나오면 모델이 데이터를 현저히 잘못 표현했다는 의미\n",
    "\n",
    "lr = LinearRegression() # 선형 회귀 모델 생성\n",
    "lr.fit(train_input, train_target) # 모델 훈련\n",
    "\n",
    "print(lr.predict([[50]])) # 새로운 데이터에 대한 예측 > [1241.83860323]\n",
    "# 선형 회귀 모델의 기울기와 절편은 coef_와 intercept_ 속성에 저장\n",
    "print(lr.coef_, lr.intercept_) # 모델 파라미터 출력\n",
    "# ex) [39.01714496] -709.0186449535477\n",
    "\n",
    "plt.scatter(train_input, train_target) # 훈련 데이터의 산점도 그리기\n",
    "plt.plot([15, 50], [15*lr.coef_+lr.intercept_, 50*lr.coef_+lr.intercept_]) # 15에서 50까지 예측 그래프 그리기\n",
    "\n",
    "# 새로운 데이터의 산점도 그리기\n",
    "plt.scatter(50, 1241.8, marker='^') # 새로운 데이터의 산점도 그리기\n",
    "plt.xlabel('length') # x축 레이블 설정\n",
    "plt.ylabel('weight') # y축 레이블 설정\n",
    "plt.show() # 그래프 출력\n",
    "\n",
    "print(lr.score(train_input, train_target)) # 훈련 데이터에 대한 R^2 점수 출력\n",
    "print(lr.score(test_input, test_target)) # 테스트 데이터에 대한 R^2 점수 출력\n",
    "# 과대적합인지 과소적합인지 확인.\n"
   ]
  },
  {
   "cell_type": "markdown",
   "metadata": {},
   "source": [
    "# 테스트 세트와 훈련세트 분류"
   ]
  },
  {
   "cell_type": "code",
   "execution_count": null,
   "metadata": {},
   "outputs": [],
   "source": [
    "train input , train target , test input , test target = train_test_split(train, target, test_size=0.2, random_state=42)\n",
    "# 데이터를 훈련 세트와 테스트 세트로 나눔 ( 8:2 비율로 나눔 ) random_state는 난수 초깃값을 지정 \n",
    "# random_state를 지정하면 여러 번 실행해도 같은 결과를 얻을 수 있음\n",
    "\n"
   ]
  },
  {
   "cell_type": "code",
   "execution_count": null,
   "metadata": {},
   "outputs": [
    {
     "name": "stdout",
     "output_type": "stream",
     "text": [
      "[1 2 3 4 5 6]\n"
     ]
    }
   ],
   "source": [
    "import numpy as np\n",
    " # 두 배열을 행 방향으로 연결"
   ]
  },
  {
   "cell_type": "markdown",
   "metadata": {},
   "source": [
    "# 그래프 "
   ]
  },
  {
   "cell_type": "code",
   "execution_count": null,
   "metadata": {},
   "outputs": [],
   "source": [
    "import matplotlib.pyplot as plt\n",
    "\n",
    "plt.scatter(data[:, 0], data[:, 1], c=target) # 산점도 그리기\n",
    "plt.scatter(20, 150, marker='^', c='red') # 새로운 데이터 그리기\n",
    "plt.xlabel('length')\n",
    "plt.ylabel('weight')\n",
    "plt.show()\n"
   ]
  },
  {
   "cell_type": "code",
   "execution_count": null,
   "metadata": {},
   "outputs": [],
   "source": []
  }
 ],
 "metadata": {
  "kernelspec": {
   "display_name": "Python 3",
   "language": "python",
   "name": "python3"
  },
  "language_info": {
   "codemirror_mode": {
    "name": "ipython",
    "version": 3
   },
   "file_extension": ".py",
   "mimetype": "text/x-python",
   "name": "python",
   "nbconvert_exporter": "python",
   "pygments_lexer": "ipython3",
   "version": "3.9.13"
  }
 },
 "nbformat": 4,
 "nbformat_minor": 2
}
