{
 "cells": [
  {
   "cell_type": "markdown",
   "metadata": {},
   "source": [
    "# zip() 함수와 for문"
   ]
  },
  {
   "cell_type": "code",
   "execution_count": null,
   "metadata": {},
   "outputs": [],
   "source": [
    "data = [[a, b ]] for a,b in zip(length, weight)] # 길이와 무게 데이터를 묶어서 data 리스트에 저장"
   ]
  },
  {
   "cell_type": "markdown",
   "metadata": {},
   "source": [
    "# 넘파이 배열로 변경"
   ]
  },
  {
   "cell_type": "code",
   "execution_count": null,
   "metadata": {},
   "outputs": [],
   "source": [
    "import numpy as np\n",
    "import pandas as pd\n",
    "\n",
    "data = np.array(data) # data 리스트를 numpy 배열로 변환\n",
    "df.to_numpy() # 데이터프레임을 numpy 배열로 변환\n",
    "\n",
    "df = pd.DataFrame(data, columns=['length', 'weight']) # numpy 배열을 데이터프레임으로 변환\n",
    "df.to_csv('data.csv', index=False) # 데이터프레임을 csv 파일로 저장\n",
    "\n",
    ".reshape(-1, 1) # 1차원 배열을 2차원 배열로 변환\n",
    ".reshape(2, -1) # 1차원 배열을 2차원 배열로 변환    "
   ]
  },
  {
   "cell_type": "markdown",
   "metadata": {},
   "source": [
    "# 최근접 이웃 분류"
   ]
  },
  {
   "cell_type": "code",
   "execution_count": null,
   "metadata": {},
   "outputs": [],
   "source": [
    "from sklearn.neighbors import KNeighborsClassifier\n",
    "\n",
    "# K-최근접 이웃 모델을 생성\n",
    "# 그래프에 가장 가까운 이웃을 찾아서 분류하는 알고리즘\n",
    "\n",
    "\n",
    "kn = KNeighborsClassifier(n_neighbors=1) # 이웃의 개수를 1로 지정 ( 기본 5 )\n",
    "kn.fit(data, target) # 모델 훈련\n",
    "kn.predict([[20, 150]]) # 새로운 데이터에 대해 예측 항상 2차원 배열로 전달\n",
    "kn.score(data, target) # 모델의 정확도 계산 \n",
    "# 1.0 -> 100% 정확도\n",
    "# 정확도 = (정확히 예측한 개수) / (전체 데이터 개수)"
   ]
  },
  {
   "cell_type": "markdown",
   "metadata": {},
   "source": [
    "# 테스트 세트와 훈련세트 분류"
   ]
  },
  {
   "cell_type": "markdown",
   "metadata": {},
   "source": []
  }
 ],
 "metadata": {
  "kernelspec": {
   "display_name": "Python 3",
   "language": "python",
   "name": "python3"
  },
  "language_info": {
   "name": "python",
   "version": "3.9.13"
  }
 },
 "nbformat": 4,
 "nbformat_minor": 2
}
